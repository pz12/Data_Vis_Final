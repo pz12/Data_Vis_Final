{
 "cells": [
  {
   "cell_type": "code",
   "execution_count": 17,
   "metadata": {
    "collapsed": true
   },
   "outputs": [],
   "source": [
    "import numpy as np\n",
    "import pandas as pd\n"
   ]
  },
  {
   "cell_type": "code",
   "execution_count": 22,
   "metadata": {
    "collapsed": true
   },
   "outputs": [],
   "source": [
    "# Define pandas mask function to filter rows:\n",
    "def mask(df, key, value, equalTo=True):\n",
    "    if equalTo:\n",
    "        return df[df[key] == value]\n",
    "    else:\n",
    "        return df[df[key] != value]\n",
    "pd.DataFrame.mask = mask"
   ]
  },
  {
   "cell_type": "code",
   "execution_count": 41,
   "metadata": {
    "collapsed": true
   },
   "outputs": [],
   "source": [
    "# Define values by hand for overall rates (it's faster than mucking about in Pandas):\n",
    "AllYears = {}\n",
    "AllYears[\"genderRates\"] = [{\"gender\" : \"male\", \"rate\" : 13.9}, {\"gender\" : \"female\", \"rate\" : 8.1}]\n"
   ]
  },
  {
   "cell_type": "code",
   "execution_count": 32,
   "metadata": {
    "collapsed": true
   },
   "outputs": [],
   "source": [
    "# Define the filepaths\n",
    "dataDir = \"/Users/maxtaggart/Developer/School/2017-dataviscourse-homework/Project/RawData/\"\n",
    "GenderAllStatesAllYearsPath = \"GenderAllStatesAllYears.txt\"\n",
    "DayOfTheWeekAllStatesAllYearsPath = \"DayOfTheWeekAllStatesAllYears.txt\"\n"
   ]
  },
  {
   "cell_type": "code",
   "execution_count": 38,
   "metadata": {},
   "outputs": [
    {
     "name": "stdout",
     "output_type": "stream",
     "text": [
      "     Weekday   Deaths\n",
      "0     Sunday  85463.0\n",
      "1     Monday  74719.0\n",
      "2    Tuesday  73698.0\n",
      "3  Wednesday  74699.0\n",
      "4   Thursday  77378.0\n",
      "5     Friday  82145.0\n",
      "6   Saturday  92455.0\n"
     ]
    }
   ],
   "source": [
    "#Read in files to pandas dataframes\n",
    "DayOfTheWeekAllStatesAllYears = pd.read_csv(dataDir + DayOfTheWeekAllStatesAllYearsPath, delimiter='\\t', usecols=[1,3])\n",
    "#print(DayOfTheWeekAllStatesAllYears)\n",
    "dayColumns = DayOfTheWeekAllStatesAllYears.head(7)\n",
    "print(dayColumns)\n"
   ]
  },
  {
   "cell_type": "code",
   "execution_count": 54,
   "metadata": {},
   "outputs": [
    {
     "name": "stdout",
     "output_type": "stream",
     "text": [
      "<class 'pandas.core.frame.DataFrame'>\n"
     ]
    }
   ],
   "source": [
    "AllYears[\"dayOfTheWeekRates\"] = []\n",
    "print(type(dayColumns))"
   ]
  },
  {
   "cell_type": "code",
   "execution_count": null,
   "metadata": {
    "collapsed": true
   },
   "outputs": [],
   "source": []
  }
 ],
 "metadata": {
  "kernelspec": {
   "display_name": "Python 3",
   "language": "python",
   "name": "python3"
  },
  "language_info": {
   "codemirror_mode": {
    "name": "ipython",
    "version": 3
   },
   "file_extension": ".py",
   "mimetype": "text/x-python",
   "name": "python",
   "nbconvert_exporter": "python",
   "pygments_lexer": "ipython3",
   "version": "3.5.2"
  }
 },
 "nbformat": 4,
 "nbformat_minor": 2
}
